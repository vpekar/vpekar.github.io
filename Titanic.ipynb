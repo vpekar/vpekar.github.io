{
 "cells": [
  {
   "cell_type": "markdown",
   "metadata": {},
   "source": [
    "**Exploratory Data Analysis with Pandas**\n",
    "\n",
    "Based on http://www.awesomestats.in/python-pandas-titanic/\n",
    "\n",
    "Download titanic.xlsx from [here](https://www.dropbox.com/s/1tt96wl7pub14am/titanic.xlsx?dl=0) and save under `PythonTutorial/data/` on your computer"
   ]
  },
  {
   "cell_type": "code",
   "execution_count": null,
   "metadata": {},
   "outputs": [],
   "source": [
    "import pandas as pd\n",
    "import numpy as np\n",
    "import matplotlib.pyplot as plt\n",
    "%matplotlib inline"
   ]
  },
  {
   "cell_type": "code",
   "execution_count": null,
   "metadata": {},
   "outputs": [],
   "source": [
    "df = pd.read_excel(\"data/titanic.xlsx\")"
   ]
  },
  {
   "cell_type": "code",
   "execution_count": null,
   "metadata": {},
   "outputs": [],
   "source": [
    "# Examine the data: print the first 3 rows\n",
    "df.head(3)"
   ]
  },
  {
   "cell_type": "code",
   "execution_count": null,
   "metadata": {},
   "outputs": [],
   "source": [
    "# the last 3 rows\n",
    "df.tail(3)"
   ]
  },
  {
   "cell_type": "code",
   "execution_count": null,
   "metadata": {},
   "outputs": [],
   "source": [
    "# How many cells and rows are there?\n",
    "\n",
    "df.shape # (n rows, n cols)"
   ]
  },
  {
   "cell_type": "code",
   "execution_count": null,
   "metadata": {},
   "outputs": [],
   "source": [
    "# What are the columns and their data types?\n",
    "df.dtypes\n",
    "# Note: \n",
    "# sibsp - number of siblings or spouses on board\n",
    "# parch - number of children or parents on board"
   ]
  },
  {
   "cell_type": "code",
   "execution_count": null,
   "metadata": {},
   "outputs": [],
   "source": [
    "# Print basic statistics\n",
    "df.describe()"
   ]
  },
  {
   "cell_type": "markdown",
   "metadata": {},
   "source": [
    "Survival factors\n",
    "========"
   ]
  },
  {
   "cell_type": "code",
   "execution_count": null,
   "metadata": {},
   "outputs": [],
   "source": [
    "# How many people survived?\n",
    "\n",
    "# value_counts counts unique values in a column\n",
    "df.survived.value_counts()"
   ]
  },
  {
   "cell_type": "code",
   "execution_count": null,
   "metadata": {},
   "outputs": [],
   "source": [
    "# How many people survived, in percent?\n",
    "df.survived.value_counts(normalize=True)"
   ]
  },
  {
   "cell_type": "code",
   "execution_count": null,
   "metadata": {},
   "outputs": [],
   "source": [
    "# How many men and women survived and how many died?\n",
    "pd.crosstab(df.survived, df.sex)"
   ]
  },
  {
   "cell_type": "code",
   "execution_count": null,
   "metadata": {},
   "outputs": [],
   "source": [
    "# Percent of women among survivors? percent of men among survivors?\n",
    "pd.crosstab(df.survived, df.sex, normalize=\"index\")"
   ]
  },
  {
   "cell_type": "code",
   "execution_count": null,
   "metadata": {},
   "outputs": [],
   "source": [
    "# Percent of survivors among women? percent of survivors among men?\n",
    "pd.crosstab(df.survived, df.sex, normalize=\"columns\")"
   ]
  },
  {
   "cell_type": "code",
   "execution_count": null,
   "metadata": {},
   "outputs": [],
   "source": [
    "# How many children under 5 on board?\n",
    "len(df[df.age <= 5])"
   ]
  },
  {
   "cell_type": "code",
   "execution_count": null,
   "metadata": {},
   "outputs": [],
   "source": [
    "# How many of them survived?\n",
    "df[df.age <= 5][\"survived\"].value_counts()"
   ]
  },
  {
   "cell_type": "code",
   "execution_count": null,
   "metadata": {},
   "outputs": [],
   "source": [
    "# Alternatively:\n",
    "len(df[(df.age <= 5) & (df.survived == 1)])"
   ]
  },
  {
   "cell_type": "code",
   "execution_count": null,
   "metadata": {},
   "outputs": [],
   "source": [
    "# How many children under 5 survived, in percent?\n",
    "df[df.age <= 5][\"survived\"].value_counts(normalize=True)"
   ]
  },
  {
   "cell_type": "code",
   "execution_count": null,
   "metadata": {},
   "outputs": [],
   "source": [
    "# Did having a spouse or sibling on-board increase survival chances?\n",
    "\n",
    "# What are possible values of sibsp?\n",
    "df['sibsp'].value_counts()"
   ]
  },
  {
   "cell_type": "code",
   "execution_count": null,
   "metadata": {},
   "outputs": [],
   "source": [
    "# What is the average number of siblings or spouses per survivor?\n",
    "df[df['survived'] == 1]['sibsp'].mean()"
   ]
  },
  {
   "cell_type": "code",
   "execution_count": null,
   "metadata": {},
   "outputs": [],
   "source": [
    "# What is the average number of siblings or spouses for non-survivors?\n",
    "df[df['survived'] == 0]['sibsp'].mean()"
   ]
  },
  {
   "cell_type": "code",
   "execution_count": null,
   "metadata": {},
   "outputs": [],
   "source": [
    "# Is the difference significant?\n",
    "# independent t-test\n",
    "from scipy.stats import ttest_ind\n",
    "\n",
    "series1 = df[df['survived'] == 1]['sibsp']\n",
    "series2 = df[df['survived'] == 0]['sibsp']\n",
    "\n",
    "tval, pval = ttest_ind(series1.values, series2.values)\n",
    "\n",
    "print(\"T test: %.5f, at p=%.5f\" % (tval, pval))"
   ]
  },
  {
   "cell_type": "code",
   "execution_count": null,
   "metadata": {},
   "outputs": [],
   "source": [
    "# Did women who had a spouse or sibling have a greater chance or survival than those who did not?\n",
    "\n",
    "# first, create a new column which has 0 for no siblings or spouse and 1 for having at least one sibling or spouse\n",
    "def sibs_func(row):\n",
    "    if row['sibsp'] > 0:\n",
    "        return 1\n",
    "    else:\n",
    "        return 0\n",
    "    \n",
    "df['has_sibsp'] = df.apply(sibs_func, axis=1)"
   ]
  },
  {
   "cell_type": "code",
   "execution_count": null,
   "metadata": {},
   "outputs": [],
   "source": [
    "df.head(3)"
   ]
  },
  {
   "cell_type": "code",
   "execution_count": null,
   "metadata": {},
   "outputs": [],
   "source": [
    "crosstab_result = pd.crosstab(df[df.sex==\"female\"].survived, df[df.sex==\"female\"].has_sibsp)\n",
    "crosstab_result"
   ]
  },
  {
   "cell_type": "code",
   "execution_count": null,
   "metadata": {},
   "outputs": [],
   "source": [
    "# Significance test: do the observed counts different from those that would be expected if the two series were independent?\n",
    "from scipy.stats import chi2_contingency\n",
    "\n",
    "chi2_val, pval, dof, exp_vals = chi2_contingency(crosstab_result)\n",
    "print(\"Chi^2 value: %.3f, p value: %.5f\" % (chi2_val, pval))"
   ]
  },
  {
   "cell_type": "markdown",
   "metadata": {},
   "source": [
    "Points of Embarkation\n",
    "====================="
   ]
  },
  {
   "cell_type": "code",
   "execution_count": null,
   "metadata": {},
   "outputs": [],
   "source": [
    "# What are all the points of embarkation?\n",
    "df.embarked.unique()"
   ]
  },
  {
   "cell_type": "code",
   "execution_count": null,
   "metadata": {},
   "outputs": [],
   "source": [
    "# How many people embarked at each point? print also the number of those whose point of embarkation is unknown.\n",
    "df.embarked.value_counts(dropna=False)"
   ]
  },
  {
   "cell_type": "markdown",
   "metadata": {},
   "source": [
    "Destinations\n",
    "======"
   ]
  },
  {
   "cell_type": "code",
   "execution_count": null,
   "metadata": {},
   "outputs": [],
   "source": [
    "# What were the 10 most common final destinations?\n",
    "\n",
    "df[\"home.dest\"].value_counts().head(10)"
   ]
  },
  {
   "cell_type": "code",
   "execution_count": null,
   "metadata": {},
   "outputs": [],
   "source": [
    "# What are the most common states which were the final destinations?\n",
    "\n",
    "# create a new column with the destination state\n",
    "df['state.dest'] = df['home.dest'].str.extract(\"([A-Z][A-Z])\", expand=False)\n",
    "df"
   ]
  },
  {
   "cell_type": "code",
   "execution_count": null,
   "metadata": {},
   "outputs": [],
   "source": [
    "# What are the 10 most common values in the state.dest column?\n",
    "df['state.dest'].value_counts(dropna=False).head(10)"
   ]
  },
  {
   "cell_type": "code",
   "execution_count": null,
   "metadata": {},
   "outputs": [],
   "source": [
    "# How many people were headed for Canada?\n",
    "\n",
    "# create a temporary df so that we can drop some rows from it\n",
    "df2 = df.copy()\n",
    "df2 = df2.dropna(subset=[\"home.dest\"])\n",
    "\n",
    "# search based on regular expressions\n",
    "df2[df2[\"home.dest\"].str.contains(\"Canada|ON|PQ|BC\")]"
   ]
  },
  {
   "cell_type": "code",
   "execution_count": null,
   "metadata": {},
   "outputs": [],
   "source": [
    "# How many people were heading to Canada?\n",
    "len(df2[df2[\"home.dest\"].str.contains(\"Canada|ON|PQ|BC\")])"
   ]
  },
  {
   "cell_type": "markdown",
   "metadata": {},
   "source": [
    "Passenger class\n",
    "==============="
   ]
  },
  {
   "cell_type": "code",
   "execution_count": null,
   "metadata": {},
   "outputs": [],
   "source": [
    "# How many people were there whose age is unknown?\n",
    "len(df[df.age.isnull()])"
   ]
  },
  {
   "cell_type": "code",
   "execution_count": null,
   "metadata": {},
   "outputs": [],
   "source": [
    "# Clean the data: drop all records where at least one column value is undefined\n",
    "# df = df.dropna()"
   ]
  },
  {
   "cell_type": "code",
   "execution_count": null,
   "metadata": {},
   "outputs": [],
   "source": [
    "# Clean the data: drop all records where either age or pclass is undefined\n",
    "df = df.dropna(subset=['age','pclass'], how='any')"
   ]
  },
  {
   "cell_type": "code",
   "execution_count": null,
   "metadata": {},
   "outputs": [],
   "source": [
    "# How many records are left?\n",
    "df.shape"
   ]
  },
  {
   "cell_type": "code",
   "execution_count": null,
   "metadata": {},
   "outputs": [],
   "source": [
    "# What is the mean age in each passenger class?\n",
    "df.groupby('pclass')['age'].mean()"
   ]
  },
  {
   "cell_type": "code",
   "execution_count": null,
   "metadata": {},
   "outputs": [],
   "source": [
    "# histogram of ages of passengers in 1st class\n",
    "df[df.pclass==1]['age'].hist(bins=10)"
   ]
  },
  {
   "cell_type": "code",
   "execution_count": null,
   "metadata": {},
   "outputs": [],
   "source": [
    "# histogram of ages of passengers in 3rd class\n",
    "df[df.pclass==3]['age'].hist(bins=10)"
   ]
  },
  {
   "cell_type": "code",
   "execution_count": null,
   "metadata": {},
   "outputs": [],
   "source": [
    "# What was the mean age of different sexes in each passenger class?\n",
    "df.groupby(['pclass', 'sex'])['age'].mean()"
   ]
  },
  {
   "cell_type": "code",
   "execution_count": null,
   "metadata": {},
   "outputs": [],
   "source": [
    "# How many survivors in each class, percent-wise?\n",
    "df.groupby('pclass').survived.value_counts(normalize=True)"
   ]
  },
  {
   "cell_type": "code",
   "execution_count": null,
   "metadata": {},
   "outputs": [],
   "source": []
  }
 ],
 "metadata": {
  "kernelspec": {
   "display_name": "Python 3",
   "language": "python",
   "name": "python3"
  },
  "language_info": {
   "codemirror_mode": {
    "name": "ipython",
    "version": 3
   },
   "file_extension": ".py",
   "mimetype": "text/x-python",
   "name": "python",
   "nbconvert_exporter": "python",
   "pygments_lexer": "ipython3",
   "version": "3.6.4"
  }
 },
 "nbformat": 4,
 "nbformat_minor": 2
}
